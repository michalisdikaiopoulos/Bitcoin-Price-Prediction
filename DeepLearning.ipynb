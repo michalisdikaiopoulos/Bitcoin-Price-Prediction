{
 "cells": [
  {
   "cell_type": "markdown",
   "id": "4b4fa1b0",
   "metadata": {},
   "source": [
    "### Imports and Declarations"
   ]
  },
  {
   "cell_type": "code",
   "execution_count": 4,
   "id": "07594cd5",
   "metadata": {},
   "outputs": [],
   "source": [
    "import numpy as np\n",
    "import pandas as pd\n",
    "\n",
    "from sklearn.preprocessing import MinMaxScaler\n",
    "from sklearn.model_selection import train_test_split\n",
    "\n",
    "from tensorflow.keras.models import Sequential\n",
    "from tensorflow.keras.layers import LSTM\n",
    "from tensorflow.keras.layers import Dense, Dropout\n",
    "\n",
    "from matplotlib import pyplot as plt\n",
    "import seaborn as sns"
   ]
  },
  {
   "cell_type": "code",
   "execution_count": 3,
   "id": "4dd14a33",
   "metadata": {},
   "outputs": [
    {
     "ename": "NameError",
     "evalue": "name 'pd' is not defined",
     "output_type": "error",
     "traceback": [
      "\u001B[1;31m---------------------------------------------------------------------------\u001B[0m",
      "\u001B[1;31mNameError\u001B[0m                                 Traceback (most recent call last)",
      "\u001B[1;32m~\\AppData\\Local\\Temp/ipykernel_10696/1256001878.py\u001B[0m in \u001B[0;36m<module>\u001B[1;34m\u001B[0m\n\u001B[1;32m----> 1\u001B[1;33m \u001B[0mdf\u001B[0m \u001B[1;33m=\u001B[0m \u001B[0mpd\u001B[0m\u001B[1;33m.\u001B[0m\u001B[0mread_csv\u001B[0m\u001B[1;33m(\u001B[0m\u001B[1;34m'BTC-USD.csv'\u001B[0m\u001B[1;33m)\u001B[0m\u001B[1;33m\u001B[0m\u001B[1;33m\u001B[0m\u001B[0m\n\u001B[0m\u001B[0;32m      2\u001B[0m \u001B[0mprint\u001B[0m\u001B[1;33m(\u001B[0m\u001B[0mdf\u001B[0m\u001B[1;33m.\u001B[0m\u001B[0mhead\u001B[0m\u001B[1;33m(\u001B[0m\u001B[1;33m)\u001B[0m\u001B[1;33m)\u001B[0m\u001B[1;33m\u001B[0m\u001B[1;33m\u001B[0m\u001B[0m\n\u001B[0;32m      3\u001B[0m \u001B[1;33m\u001B[0m\u001B[0m\n",
      "\u001B[1;31mNameError\u001B[0m: name 'pd' is not defined"
     ]
    }
   ],
   "source": [
    "df = pd.read_csv('BTC-USD.csv')\n",
    "print(df.head())"
   ]
  },
  {
   "cell_type": "code",
   "execution_count": 3,
   "id": "3b735cad",
   "metadata": {},
   "outputs": [
    {
     "name": "stdout",
     "output_type": "stream",
     "text": [
      "<class 'str'>\n"
     ]
    }
   ],
   "source": [
    "# Checking datatype of Date variable\n",
    "print(type(df['Date'][1]))"
   ]
  },
  {
   "cell_type": "code",
   "execution_count": 4,
   "id": "a807a834",
   "metadata": {},
   "outputs": [
    {
     "name": "stdout",
     "output_type": "stream",
     "text": [
      "0   2017-11-09\n",
      "1   2017-11-10\n",
      "2   2017-11-11\n",
      "3   2017-11-12\n",
      "4   2017-11-13\n",
      "Name: Date, dtype: datetime64[ns]\n"
     ]
    }
   ],
   "source": [
    "# Converting the Date to datetime format, in order to use the as the X-axis in our plots\n",
    "dates = pd.to_datetime(df['Date'])\n",
    "print(dates.head())"
   ]
  },
  {
   "cell_type": "code",
   "execution_count": 5,
   "id": "35478dec",
   "metadata": {},
   "outputs": [
    {
     "name": "stdout",
     "output_type": "stream",
     "text": [
      "<class 'numpy.float64'>\n",
      "<class 'numpy.float64'>\n",
      "<class 'numpy.float64'>\n",
      "<class 'numpy.float64'>\n",
      "<class 'numpy.float64'>\n",
      "<class 'numpy.int64'>\n"
     ]
    }
   ],
   "source": [
    "# Checking the datatype of the other variables\n",
    "print(type(df['Open'][1]))\n",
    "print(type(df['High'][1]))\n",
    "print(type(df['Low'][1]))\n",
    "print(type(df['Close'][1]))\n",
    "print(type(df['Adj Close'][1]))\n",
    "print(type(df['Volume'][1]))"
   ]
  },
  {
   "cell_type": "code",
   "execution_count": 6,
   "id": "88bcb8d6",
   "metadata": {},
   "outputs": [
    {
     "name": "stdout",
     "output_type": "stream",
     "text": [
      "['Open', 'High', 'Low', 'Close', 'Adj Close', 'Volume']\n"
     ]
    }
   ],
   "source": [
    "variables = list(df)[1:]\n",
    "print(variables) #['Open', 'High', 'Low', 'Close', 'Adj Close', 'Volume']"
   ]
  },
  {
   "cell_type": "code",
   "execution_count": 7,
   "id": "5448d1b9",
   "metadata": {},
   "outputs": [
    {
     "name": "stdout",
     "output_type": "stream",
     "text": [
      "          Open         High          Low        Close    Adj Close  \\\n",
      "0  7446.830078  7446.830078  7101.520020  7143.580078  7143.580078   \n",
      "1  7173.729980  7312.000000  6436.870117  6618.140137  6618.140137   \n",
      "2  6618.609863  6873.149902  6204.220215  6357.600098  6357.600098   \n",
      "3  6295.450195  6625.049805  5519.009766  5950.069824  5950.069824   \n",
      "4  5938.250000  6811.189941  5844.290039  6559.490234  6559.490234   \n",
      "\n",
      "         Volume  \n",
      "0  3.226250e+09  \n",
      "1  5.208250e+09  \n",
      "2  4.908680e+09  \n",
      "3  8.957350e+09  \n",
      "4  6.263250e+09  \n"
     ]
    }
   ],
   "source": [
    "variables_f = df[variables].astype(float)\n",
    "print(variables_f.head())"
   ]
  },
  {
   "cell_type": "code",
   "execution_count": 8,
   "id": "e56fe1dc",
   "metadata": {},
   "outputs": [
    {
     "name": "stdout",
     "output_type": "stream",
     "text": [
      "[[0.06546927 0.06367244 0.06187956 0.06073083 0.06073083 0.00086937]\n",
      " [0.06122288 0.06161442 0.05136141 0.05256296 0.05256296 0.00656405]\n",
      " [0.0525914  0.05491587 0.0476797  0.0485129  0.0485129  0.00570333]\n",
      " ...\n",
      " [0.70576314 0.73353452 0.71014391 0.73912216 0.73912216 0.0726925 ]\n",
      " [0.73965506 0.74088693 0.7488942  0.73970752 0.73970752 0.06161355]\n",
      " [0.74041489 0.7311573  0.74449816 0.73360872 0.73360872 0.04627854]]\n"
     ]
    }
   ],
   "source": [
    "scaler = MinMaxScaler()\n",
    "scaler = scaler.fit(variables_f)\n",
    "variables_scaled = scaler.transform(variables_f)\n",
    "print(variables_scaled)"
   ]
  },
  {
   "cell_type": "code",
   "execution_count": 9,
   "id": "900c6593",
   "metadata": {},
   "outputs": [],
   "source": [
    "# We can use preprocessing.make_lags() for storing the values\n",
    "features_set = []\n",
    "labels = []\n",
    "for i in range(50, len(variables_scaled)):\n",
    "    features_set.append(variables_scaled[i-50:i, 0:variables_scaled.shape[1]])\n",
    "    labels.append(variables_scaled[i:i+1, 5])\n",
    "\n",
    "#print(features_set[0][0:5])\n",
    "#print(list(labels[0][0:5]))\n",
    "\n",
    "features_set, labels = np.array(features_set), np.array(labels)\n",
    "\n",
    "#print(features_set[0][0:5])\n",
    "#print(list(labels[0][0:5]))"
   ]
  },
  {
   "cell_type": "code",
   "execution_count": 10,
   "id": "f434c74b",
   "metadata": {},
   "outputs": [
    {
     "name": "stdout",
     "output_type": "stream",
     "text": [
      "X_train shape: (1166, 50, 6).\n",
      "X_test shape: (292, 50, 6).\n",
      "y_train shape: (1166, 1).\n",
      "y_test shape: (292, 1).\n"
     ]
    }
   ],
   "source": [
    "X_train, X_test, y_train, y_test = train_test_split(features_set, labels, test_size=0.2, train_size=0.8,\n",
    "                                                    random_state=None, shuffle=False, stratify=None)\n",
    "\n",
    "print('X_train shape: {}.'.format(X_train.shape))\n",
    "print('X_test shape: {}.'.format(X_test.shape))\n",
    "print('y_train shape: {}.'.format(y_train.shape))\n",
    "print('y_test shape: {}.'.format(y_test.shape))"
   ]
  },
  {
   "cell_type": "code",
   "execution_count": 164,
   "id": "068e36dc",
   "metadata": {},
   "outputs": [
    {
     "name": "stdout",
     "output_type": "stream",
     "text": [
      "Model: \"sequential_14\"\n",
      "_________________________________________________________________\n",
      " Layer (type)                Output Shape              Param #   \n",
      "=================================================================\n",
      " lstm_23 (LSTM)              (None, 50, 64)            18176     \n",
      "                                                                 \n",
      " lstm_24 (LSTM)              (None, 32)                12416     \n",
      "                                                                 \n",
      " dropout_20 (Dropout)        (None, 32)                0         \n",
      "                                                                 \n",
      " dense_18 (Dense)            (None, 1)                 33        \n",
      "                                                                 \n",
      "=================================================================\n",
      "Total params: 30,625\n",
      "Trainable params: 30,625\n",
      "Non-trainable params: 0\n",
      "_________________________________________________________________\n"
     ]
    }
   ],
   "source": [
    "model = Sequential()\n",
    "model.add(LSTM(64, activation='relu', input_shape=(X_train.shape[1], X_train.shape[2]), return_sequences=True))\n",
    "#model.add(LSTM(50, activation='relu', input_shape=(X_train.shape[1], X_train.shape[2]), return_sequences=False))\n",
    "model.add(LSTM(32, activation='relu', return_sequences=False))\n",
    "model.add(Dropout(0.2))\n",
    "model.add(Dense(y_train.shape[1]))\n",
    "\n",
    "model.compile(optimizer='adam', loss='mse')\n",
    "model.summary()"
   ]
  },
  {
   "cell_type": "code",
   "execution_count": 165,
   "id": "b2d3526c",
   "metadata": {},
   "outputs": [
    {
     "name": "stdout",
     "output_type": "stream",
     "text": [
      "Epoch 1/10\n",
      "33/33 - 3s - loss: 0.0012 - val_loss: 0.0128 - 3s/epoch - 84ms/step\n",
      "Epoch 2/10\n",
      "33/33 - 1s - loss: 4.4483e-04 - val_loss: 0.0092 - 895ms/epoch - 27ms/step\n",
      "Epoch 3/10\n",
      "33/33 - 1s - loss: 3.6656e-04 - val_loss: 0.0107 - 863ms/epoch - 26ms/step\n",
      "Epoch 4/10\n",
      "33/33 - 1s - loss: 3.6659e-04 - val_loss: 0.0097 - 870ms/epoch - 26ms/step\n",
      "Epoch 5/10\n",
      "33/33 - 1s - loss: 3.4192e-04 - val_loss: 0.0091 - 858ms/epoch - 26ms/step\n",
      "Epoch 6/10\n",
      "33/33 - 1s - loss: 3.2043e-04 - val_loss: 0.0100 - 883ms/epoch - 27ms/step\n",
      "Epoch 7/10\n",
      "33/33 - 1s - loss: 3.0460e-04 - val_loss: 0.0108 - 874ms/epoch - 26ms/step\n",
      "Epoch 8/10\n",
      "33/33 - 1s - loss: 3.4473e-04 - val_loss: 0.0101 - 865ms/epoch - 26ms/step\n",
      "Epoch 9/10\n",
      "33/33 - 1s - loss: 3.1112e-04 - val_loss: 0.0110 - 882ms/epoch - 27ms/step\n",
      "Epoch 10/10\n",
      "33/33 - 1s - loss: 3.2654e-04 - val_loss: 0.0101 - 860ms/epoch - 26ms/step\n"
     ]
    }
   ],
   "source": [
    "history = model.fit(X_train, y_train, epochs=10, batch_size=32, validation_split=0.1, verbose=2)"
   ]
  },
  {
   "cell_type": "code",
   "execution_count": 166,
   "id": "2cfc22dc",
   "metadata": {},
   "outputs": [
    {
     "data": {
      "text/plain": [
       "<matplotlib.legend.Legend at 0x154d3dbe9d0>"
      ]
     },
     "execution_count": 166,
     "metadata": {},
     "output_type": "execute_result"
    },
    {
     "data": {
      "image/png": "[encoded data removed]",
      "text/plain": [
       "<Figure size 432x288 with 1 Axes>"
      ]
     },
     "metadata": {
      "needs_background": "light"
     },
     "output_type": "display_data"
    }
   ],
   "source": [
    "plt.plot(history.history['loss'], label='Training loss')\n",
    "plt.plot(history.history['val_loss'], label='Validation loss')\n",
    "plt.legend()"
   ]
  },
  {
   "cell_type": "code",
   "execution_count": 167,
   "id": "74c8bb1c",
   "metadata": {},
   "outputs": [],
   "source": [
    "predictions = model.predict(X_test)\n",
    "#print(predictions)"
   ]
  },
  {
   "cell_type": "code",
   "execution_count": 168,
   "id": "87fe1e8f",
   "metadata": {},
   "outputs": [],
   "source": [
    "predictions_copy = np.repeat(predictions, variables_f.shape[1], axis=-1)\n",
    "predictions_inv = scaler.inverse_transform(predictions_copy)[:,0]\n",
    "#print(predictions_inv)"
   ]
  },
  {
   "cell_type": "code",
   "execution_count": 169,
   "id": "1ace8d8a",
   "metadata": {},
   "outputs": [
    {
     "name": "stdout",
     "output_type": "stream",
     "text": [
      "          Date     Adj Close\n",
      "0   2021-03-09  12267.336914\n",
      "1   2021-03-10  12049.919922\n",
      "2   2021-03-11  11931.263672\n",
      "3   2021-03-12  11880.441406\n",
      "4   2021-03-13  11857.158203\n",
      "..         ...           ...\n",
      "287 2021-12-21   8682.895508\n",
      "288 2021-12-22   8663.481445\n",
      "289 2021-12-23   8648.880859\n",
      "290 2021-12-24   8660.293945\n",
      "291 2021-12-25   8678.907227\n",
      "\n",
      "[292 rows x 2 columns]\n"
     ]
    }
   ],
   "source": [
    "df_forecast = pd.DataFrame({'Date':np.array(dates[50+len(y_train):50+len(y_train)+len(y_test)]), 'Adj Close':predictions_inv})\n",
    "print(df_forecast)"
   ]
  },
  {
   "cell_type": "code",
   "execution_count": 170,
   "id": "6d3ff0aa",
   "metadata": {},
   "outputs": [
    {
     "name": "stdout",
     "output_type": "stream",
     "text": [
      "           Date     Adj Close\n",
      "0    2017-11-09   7143.580078\n",
      "1    2017-11-10   6618.140137\n",
      "2    2017-11-11   6357.600098\n",
      "3    2017-11-12   5950.069824\n",
      "4    2017-11-13   6559.490234\n",
      "...         ...           ...\n",
      "1503 2021-12-21  48936.613281\n",
      "1504 2021-12-22  48628.511719\n",
      "1505 2021-12-23  50784.539063\n",
      "1506 2021-12-24  50822.195313\n",
      "1507 2021-12-25  50429.859375\n",
      "\n",
      "[1508 rows x 2 columns]\n"
     ]
    }
   ],
   "source": [
    "df_original = pd.DataFrame({'Date':np.array(dates), 'Adj Close':df['Adj Close'].values})\n",
    "print(df_original)"
   ]
  },
  {
   "cell_type": "code",
   "execution_count": 171,
   "id": "b937e76d",
   "metadata": {},
   "outputs": [
    {
     "data": {
      "text/plain": [
       "array([ 7143.580078,  6618.140137,  6357.600098, ..., 50784.539063,\n",
       "       50822.195313, 50429.859375])"
      ]
     },
     "execution_count": 171,
     "metadata": {},
     "output_type": "execute_result"
    }
   ],
   "source": [
    "type(df_original['Date'][0])\n",
    "type(df_forecast['Date'][0])\n",
    "df['Adj Close'].values"
   ]
  },
  {
   "cell_type": "code",
   "execution_count": 172,
   "id": "d08751af",
   "metadata": {},
   "outputs": [
    {
     "data": {
      "text/plain": [
       "<AxesSubplot:xlabel='Date', ylabel='Adj Close'>"
      ]
     },
     "execution_count": 172,
     "metadata": {},
     "output_type": "execute_result"
    },
    {
     "data": {
      "image/png": "[encoded data removed]",
      "text/plain": [
       "<Figure size 432x288 with 1 Axes>"
      ]
     },
     "metadata": {
      "needs_background": "light"
     },
     "output_type": "display_data"
    }
   ],
   "source": [
    "sns.lineplot(x=df_original['Date'], y=df_original['Adj Close'])\n",
    "sns.lineplot(x=df_forecast['Date'], y=df_forecast['Adj Close'])"
   ]
  },
  {
   "cell_type": "code",
   "execution_count": 88,
   "id": "ded3392c",
   "metadata": {},
   "outputs": [
    {
     "data": {
      "text/plain": [
       "1216   2021-03-09\n",
       "1217   2021-03-10\n",
       "1218   2021-03-11\n",
       "1219   2021-03-12\n",
       "1220   2021-03-13\n",
       "          ...    \n",
       "1503   2021-12-21\n",
       "1504   2021-12-22\n",
       "1505   2021-12-23\n",
       "1506   2021-12-24\n",
       "1507   2021-12-25\n",
       "Name: Date, Length: 292, dtype: datetime64[ns]"
      ]
     },
     "execution_count": 88,
     "metadata": {},
     "output_type": "execute_result"
    }
   ],
   "source": [
    "dates[50+len(y_train):50+len(y_train)+len(y_test)]"
   ]
  },
  {
   "cell_type": "code",
   "execution_count": 82,
   "id": "5cf0ab02",
   "metadata": {},
   "outputs": [
    {
     "data": {
      "text/plain": [
       "1508"
      ]
     },
     "execution_count": 82,
     "metadata": {},
     "output_type": "execute_result"
    }
   ],
   "source": [
    "len(dates)"
   ]
  },
  {
   "cell_type": "code",
   "execution_count": 83,
   "id": "6690e37a",
   "metadata": {},
   "outputs": [
    {
     "data": {
      "text/plain": [
       "1458"
      ]
     },
     "execution_count": 83,
     "metadata": {},
     "output_type": "execute_result"
    }
   ],
   "source": [
    "len(y_test) +len(y_train)"
   ]
  },
  {
   "cell_type": "code",
   "execution_count": 84,
   "id": "684642ed",
   "metadata": {},
   "outputs": [
    {
     "data": {
      "text/plain": [
       "0   2017-11-09\n",
       "1   2017-11-10\n",
       "2   2017-11-11\n",
       "3   2017-11-12\n",
       "4   2017-11-13\n",
       "Name: Date, dtype: datetime64[ns]"
      ]
     },
     "execution_count": 84,
     "metadata": {},
     "output_type": "execute_result"
    }
   ],
   "source": [
    "dates.head()"
   ]
  },
  {
   "cell_type": "code",
   "execution_count": 85,
   "id": "e7a07de1",
   "metadata": {},
   "outputs": [
    {
     "data": {
      "text/plain": [
       "1508"
      ]
     },
     "execution_count": 85,
     "metadata": {},
     "output_type": "execute_result"
    }
   ],
   "source": [
    "len(df)"
   ]
  },
  {
   "cell_type": "code",
   "execution_count": 86,
   "id": "ea347cc5",
   "metadata": {},
   "outputs": [
    {
     "data": {
      "text/plain": [
       "1508"
      ]
     },
     "execution_count": 86,
     "metadata": {},
     "output_type": "execute_result"
    }
   ],
   "source": [
    "len(variables_f)"
   ]
  },
  {
   "cell_type": "code",
   "execution_count": 87,
   "id": "4cd27daf",
   "metadata": {},
   "outputs": [
    {
     "data": {
      "text/plain": [
       "1508"
      ]
     },
     "execution_count": 87,
     "metadata": {},
     "output_type": "execute_result"
    }
   ],
   "source": [
    "len(variables_scaled)"
   ]
  },
  {
   "cell_type": "code",
   "execution_count": 91,
   "id": "2fdd96a4",
   "metadata": {},
   "outputs": [
    {
     "name": "stdout",
     "output_type": "stream",
     "text": [
      "[[1.62764404e+04 1.64631777e+04 1.59921523e+04 1.63178086e+04\n",
      "  1.63178086e+04 3.15994922e+10]\n",
      " [1.63178086e+04 1.63178086e+04 1.57491934e+04 1.60681387e+04\n",
      "  1.60681387e+04 2.74817101e+10]\n",
      " [1.60681396e+04 1.61231104e+04 1.57935342e+04 1.59555879e+04\n",
      "  1.59555879e+04 2.36538676e+10]\n",
      " [1.59555771e+04 1.68161816e+04 1.58807061e+04 1.67161113e+04\n",
      "  1.67161113e+04 3.15267667e+10]\n",
      " [1.66856914e+04 1.77829199e+04 1.65645449e+04 1.76454062e+04\n",
      "  1.76454062e+04 3.90068492e+10]\n",
      " [1.76451914e+04 1.83939492e+04 1.73529062e+04 1.78040059e+04\n",
      "  1.78040059e+04 4.90648003e+10]\n",
      " [1.78038613e+04 1.81195469e+04 1.73825547e+04 1.78170898e+04\n",
      "  1.78170898e+04 3.69850554e+10]\n",
      " [1.78170840e+04 1.87732266e+04 1.77657949e+04 1.86213145e+04\n",
      "  1.86213145e+04 3.69928739e+10]\n",
      " [1.86213164e+04 1.89366211e+04 1.84443594e+04 1.86422324e+04\n",
      "  1.86422324e+04 3.96502107e+10]\n",
      " [1.86422324e+04 1.86889688e+04 1.76713848e+04 1.83700020e+04\n",
      "  1.83700020e+04 4.12804342e+10]\n",
      " [1.83700176e+04 1.87114258e+04 1.80007969e+04 1.83641211e+04\n",
      "  1.83641211e+04 4.27411123e+10]\n",
      " [1.83650156e+04 1.93482715e+04 1.81286562e+04 1.91074648e+04\n",
      "  1.91074648e+04 5.14695650e+10]\n",
      " [1.91044102e+04 1.93909648e+04 1.85811465e+04 1.87321211e+04\n",
      "  1.87321211e+04 4.37103574e+10]\n",
      " [1.87298398e+04 1.88662852e+04 1.63510352e+04 1.71506230e+04\n",
      "  1.71506230e+04 6.13968357e+10]\n",
      " [1.71539141e+04 1.74450234e+04 1.65264238e+04 1.71084023e+04\n",
      "  1.71084023e+04 3.88864946e+10]\n",
      " [1.71129336e+04 1.78539395e+04 1.69106523e+04 1.77174141e+04\n",
      "  1.77174141e+04 3.26010407e+10]\n",
      " [1.77196348e+04 1.82836289e+04 1.75591172e+04 1.81774844e+04\n",
      "  1.81774844e+04 3.11339577e+10]\n",
      " [1.81783223e+04 1.97492637e+04 1.81783223e+04 1.96258359e+04\n",
      "  1.96258359e+04 4.77284804e+10]\n",
      " [1.96337695e+04 1.98459746e+04 1.83219219e+04 1.88029980e+04\n",
      "  1.88029980e+04 4.96336587e+10]\n",
      " [1.88017441e+04 1.93083301e+04 1.83477188e+04 1.92010918e+04\n",
      "  1.92010918e+04 3.73876971e+10]\n",
      " [1.92059258e+04 1.95661914e+04 1.89257852e+04 1.94453984e+04\n",
      "  1.94453984e+04 3.19303174e+10]\n",
      " [1.94469668e+04 1.95114043e+04 1.86971934e+04 1.86997656e+04\n",
      "  1.86997656e+04 3.38723881e+10]\n",
      " [1.86983848e+04 1.91604492e+04 1.85901934e+04 1.91542305e+04\n",
      "  1.91542305e+04 2.72424551e+10]\n",
      " [1.91541797e+04 1.93905000e+04 1.88978945e+04 1.93451211e+04\n",
      "  1.93451211e+04 2.52937757e+10]\n",
      " [1.93431289e+04 1.94118281e+04 1.89311426e+04 1.91916309e+04\n",
      "  1.91916309e+04 2.68963577e+10]\n",
      " [1.91915293e+04 1.92834785e+04 1.82699453e+04 1.83211445e+04\n",
      "  1.83211445e+04 3.16922888e+10]\n",
      " [1.83208848e+04 1.86262930e+04 1.79355469e+04 1.85539160e+04\n",
      "  1.85539160e+04 3.44203731e+10]\n",
      " [1.85532988e+04 1.85532988e+04 1.79570645e+04 1.82649922e+04\n",
      "  1.82649922e+04 2.55471323e+10]\n",
      " [1.82639297e+04 1.82684531e+04 1.76195332e+04 1.80589043e+04\n",
      "  1.80589043e+04 2.79196410e+10]\n",
      " [1.80513203e+04 1.89195508e+04 1.80460410e+04 1.88036562e+04\n",
      "  1.88036562e+04 2.17525808e+10]\n",
      " [1.88067656e+04 1.93815352e+04 1.87343320e+04 1.91423828e+04\n",
      "  1.91423828e+04 2.54504686e+10]\n",
      " [1.91444922e+04 1.93050996e+04 1.90127090e+04 1.92466445e+04\n",
      "  1.92466445e+04 2.24739977e+10]\n",
      " [1.92469199e+04 1.95250078e+04 1.90798418e+04 1.94170762e+04\n",
      "  1.94170762e+04 2.67419825e+10]\n",
      " [1.94188184e+04 2.14589082e+04 1.92983164e+04 2.13105977e+04\n",
      "  2.13105977e+04 4.44090115e+10]\n",
      " [2.13083516e+04 2.36426602e+04 2.12346758e+04 2.28051621e+04\n",
      "  2.28051621e+04 7.13786064e+10]\n",
      " [2.28067969e+04 2.32386016e+04 2.23998125e+04 2.31379609e+04\n",
      "  2.31379609e+04 4.03878963e+10]\n",
      " [2.31328652e+04 2.40858555e+04 2.28264727e+04 2.38698320e+04\n",
      "  2.38698320e+04 3.84875466e+10]\n",
      " [2.38617656e+04 2.42096602e+04 2.31477109e+04 2.34772949e+04\n",
      "  2.34772949e+04 3.78442284e+10]\n",
      " [2.34744551e+04 2.40599824e+04 2.21593672e+04 2.28030820e+04\n",
      "  2.28030820e+04 4.58527140e+10]\n",
      " [2.27940391e+04 2.37899023e+04 2.24306055e+04 2.37830293e+04\n",
      "  2.37830293e+04 4.41716327e+10]\n",
      " [2.37819746e+04 2.40244902e+04 2.28026465e+04 2.32413457e+04\n",
      "  2.32413457e+04 5.11461619e+10]\n",
      " [2.32402031e+04 2.37683379e+04 2.27775977e+04 2.37359492e+04\n",
      "  2.37359492e+04 4.10807597e+10]\n",
      " [2.37335703e+04 2.47101016e+04 2.34636738e+04 2.46647910e+04\n",
      "  2.46647910e+04 4.20683958e+10]\n",
      " [2.46770156e+04 2.67180703e+04 2.45226895e+04 2.64370371e+04\n",
      "  2.64370371e+04 4.83326473e+10]\n",
      " [2.64393730e+04 2.82888398e+04 2.59227695e+04 2.62722949e+04\n",
      "  2.62722949e+04 6.64798956e+10]\n",
      " [2.62808223e+04 2.73891113e+04 2.62076406e+04 2.70848086e+04\n",
      "  2.70848086e+04 4.90567429e+10]\n",
      " [2.70818105e+04 2.73707207e+04 2.59872988e+04 2.73624375e+04\n",
      "  2.73624375e+04 4.52659468e+10]\n",
      " [2.73600898e+04 2.89377402e+04 2.73600898e+04 2.88409531e+04\n",
      "  2.88409531e+04 5.12874427e+10]\n",
      " [2.88415742e+04 2.92448770e+04 2.82019922e+04 2.90017207e+04\n",
      "  2.90017207e+04 4.67549648e+10]\n",
      " [2.89940098e+04 2.96006270e+04 2.88035859e+04 2.93741523e+04\n",
      "  2.93741523e+04 4.07303014e+10]]\n"
     ]
    }
   ],
   "source": [
    "X_train_inv = scaler.inverse_transform(features_set[1100])\n",
    "print(X_train_inv)"
   ]
  },
  {
   "cell_type": "code",
   "execution_count": 89,
   "id": "9d7b8843",
   "metadata": {},
   "outputs": [
    {
     "data": {
      "text/plain": [
       "array([[0.74537807, 0.74851951, 0.73293551, 0.76184846, 0.76184846,\n",
       "        0.13122974],\n",
       "       [0.76246394, 0.78683251, 0.77211493, 0.80191671, 0.80191671,\n",
       "        0.13788061],\n",
       "       [0.80212971, 0.82398682, 0.79283091, 0.82032853, 0.82032853,\n",
       "        0.15622124],\n",
       "       [0.81984246, 0.83669869, 0.81172138, 0.84825592, 0.84825592,\n",
       "        0.15471789],\n",
       "       [0.84873282, 0.83525715, 0.82583824, 0.84090272, 0.84090272,\n",
       "        0.15160794],\n",
       "       [0.84130284, 0.89153868, 0.83915227, 0.9016985 , 0.9016985 ,\n",
       "        0.16591613],\n",
       "       [0.90159756, 0.89022682, 0.88796232, 0.87152956, 0.87152956,\n",
       "        0.11773662],\n",
       "       [0.87121973, 0.87409406, 0.8260996 , 0.81875304, 0.81875304,\n",
       "        0.1824357 ],\n",
       "       [0.81793937, 0.81749855, 0.7970109 , 0.83270768, 0.83270768,\n",
       "        0.1632727 ],\n",
       "       [0.83325565, 0.85011186, 0.81241824, 0.86482318, 0.86482318,\n",
       "        0.16473376],\n",
       "       [0.865399  , 0.86761086, 0.80806554, 0.84909224, 0.84909224,\n",
       "        0.15176911],\n",
       "       [0.8491872 , 0.8581797 , 0.8458895 , 0.85667393, 0.85667393,\n",
       "        0.13256993],\n",
       "       [0.85667895, 0.86631397, 0.87072848, 0.85616083, 0.85616083,\n",
       "        0.13629893],\n",
       "       [0.85633147, 0.84702981, 0.83579173, 0.84387695, 0.84387695,\n",
       "        0.14084342],\n",
       "       [0.84401642, 0.84250533, 0.80861274, 0.79733141, 0.79733141,\n",
       "        0.15399703],\n",
       "       [0.79727301, 0.80455879, 0.79567634, 0.80059273, 0.80059273,\n",
       "        0.1537487 ],\n",
       "       [0.80036456, 0.82404984, 0.7805418 , 0.77005212, 0.77005212,\n",
       "        0.1943533 ],\n",
       "       [0.76951966, 0.76497878, 0.75430755, 0.75341751, 0.75341751,\n",
       "        0.18697662],\n",
       "       [0.75329079, 0.79161307, 0.76575361, 0.80678528, 0.80678528,\n",
       "        0.15437268],\n",
       "       [0.80700513, 0.81345416, 0.80789672, 0.81978386, 0.81978386,\n",
       "        0.12740584],\n",
       "       [0.82002534, 0.81409673, 0.82100311, 0.81942997, 0.81942997,\n",
       "        0.12861269],\n",
       "       [0.81960485, 0.84053045, 0.8220828 , 0.84740216, 0.84740216,\n",
       "        0.15716942],\n",
       "       [0.84762752, 0.85739892, 0.85550875, 0.86555063, 0.86555063,\n",
       "        0.14794223],\n",
       "       [0.8659774 , 0.86476838, 0.86302357, 0.86556836, 0.86556836,\n",
       "        0.17985401],\n",
       "       [0.86591964, 0.85951827, 0.8753491 , 0.86831943, 0.86831943,\n",
       "        0.16878742],\n",
       "       [0.86859896, 0.86991475, 0.8811095 , 0.87280418, 0.87280418,\n",
       "        0.16033647],\n",
       "       [0.87324078, 0.86751957, 0.86108456, 0.84512782, 0.84512782,\n",
       "        0.16296109],\n",
       "       [0.84536838, 0.84925601, 0.85419725, 0.86307688, 0.86307688,\n",
       "        0.13741353],\n",
       "       [0.86334339, 0.86417721, 0.8625236 , 0.86772982, 0.86772982,\n",
       "        0.16602084],\n",
       "       [0.86973488, 0.85789279, 0.86176374, 0.85427547, 0.85427547,\n",
       "        0.18139749],\n",
       "       [0.85441264, 0.84646881, 0.82943647, 0.82095634, 0.82095634,\n",
       "        0.20894363],\n",
       "       [0.82196852, 0.84047918, 0.83378936, 0.85632107, 0.85632107,\n",
       "        0.14403393],\n",
       "       [0.85659033, 0.84961167, 0.86431245, 0.85509382, 0.85509382,\n",
       "        0.12564936],\n",
       "       [0.85545861, 0.88532325, 0.86796558, 0.8791608 , 0.8791608 ,\n",
       "        0.15893036],\n",
       "       [0.88021941, 0.87790335, 0.8877642 , 0.88556108, 0.88556108,\n",
       "        0.12457203],\n",
       "       [0.8853461 , 0.88496258, 0.89251296, 0.88071868, 0.88071868,\n",
       "        0.14051379],\n",
       "       [0.88090028, 0.92295813, 0.89694529, 0.93683558, 0.93683558,\n",
       "        0.19267602],\n",
       "       [0.93740065, 0.94006605, 0.92360804, 0.93071462, 0.93071462,\n",
       "        0.21413399],\n",
       "       [0.93042609, 0.92416988, 0.93396032, 0.93389069, 0.93389069,\n",
       "        0.16673371],\n",
       "       [0.93327632, 0.92070576, 0.90252481, 0.90682368, 0.90682368,\n",
       "        0.23379019],\n",
       "       [0.90639887, 0.90509775, 0.90472166, 0.89300481, 0.89300481,\n",
       "        0.18162945],\n",
       "       [0.89352388, 0.88197731, 0.78552992, 0.82355615, 0.82355615,\n",
       "        0.27164706],\n",
       "       [0.82339391, 0.82798291, 0.80988567, 0.81590937, 0.81590937,\n",
       "        0.17934843],\n",
       "       [0.81546722, 0.82099349, 0.79531793, 0.8275488 , 0.8275488 ,\n",
       "        0.18654424],\n",
       "       [0.82774048, 0.8163506 , 0.7992334 , 0.78764613, 0.78764613,\n",
       "        0.14941473],\n",
       "       [0.78709544, 0.79577886, 0.74999113, 0.75432087, 0.75432087,\n",
       "        0.20651097],\n",
       "       [0.75417392, 0.74556936, 0.70458658, 0.74392727, 0.74392727,\n",
       "        0.24061593],\n",
       "       [0.74489776, 0.73101938, 0.72184576, 0.72771735, 0.72771735,\n",
       "        0.13242805],\n",
       "       [0.72794338, 0.72092169, 0.6958008 , 0.71144792, 0.71144792,\n",
       "        0.1241033 ],\n",
       "       [0.71278265, 0.77864935, 0.72259764, 0.78944411, 0.78944411,\n",
       "        0.15906129]])"
      ]
     },
     "execution_count": 89,
     "metadata": {},
     "output_type": "execute_result"
    }
   ],
   "source": [
    "features_set[1215]"
   ]
  },
  {
   "cell_type": "code",
   "execution_count": 137,
   "id": "90b8da42",
   "metadata": {},
   "outputs": [
    {
     "name": "stdout",
     "output_type": "stream",
     "text": [
      "[[5.22729688e+04 5.48241172e+04 5.19818320e+04 5.48241172e+04\n",
      "  1.39313049e+04 5.09122274e+10]\n",
      " [5.48240117e+04 5.72582539e+04 5.32908906e+04 5.60085508e+04\n",
      "  1.41977035e+04 5.72955776e+10]\n",
      " [5.59631797e+04 5.80910625e+04 5.44845938e+04 5.78051211e+04\n",
      "  1.46577456e+04 5.67723436e+10]\n",
      " ...\n",
      " [4.86263438e+04 5.13323398e+04 4.80658359e+04 5.07845391e+04\n",
      "  1.21511034e+04 2.82238781e+10]\n",
      " [5.08060508e+04 5.18140273e+04 5.05144961e+04 5.08221953e+04\n",
      "  1.21922337e+04 2.43679122e+10]\n",
      " [5.08549180e+04 5.11765977e+04 5.02367070e+04 5.04298594e+04\n",
      "  1.22101910e+04 1.90306509e+10]]\n"
     ]
    }
   ],
   "source": [
    "variables_scaled_copy_df = pd.DataFrame(np.array(variables_scaled), columns=['Open', 'High', 'Low', 'Close', 'Adj Close', 'Volume'])\n",
    "variables_scaled_copy_df = variables_scaled_copy_df[50+len(y_train):50+len(y_train)+len(y_test)]\n",
    "variables_scaled_copy_df['Adj Close'] = predictions\n",
    "variables_inv = scaler.inverse_transform(variables_scaled_copy_df)\n",
    "print(variables_inv)"
   ]
  },
  {
   "cell_type": "code",
   "execution_count": 140,
   "id": "bb94b09e",
   "metadata": {},
   "outputs": [
    {
     "data": {
      "text/plain": [
       "array([13931.30488961, 14197.70354948, 14657.74560129, 15119.63390262,\n",
       "       15493.9796852 , 15918.68896908, 15959.006419  , 16278.10275335,\n",
       "       16424.43001016, 16554.23592198, 16569.79483991, 16413.80305161,\n",
       "       16277.22468245, 16179.25363384, 16168.06589857, 16149.21900771,\n",
       "       16407.05935204, 16609.69913638, 16566.11288539, 16321.15890258,\n",
       "       16075.01530623, 16092.22779656, 16150.42012435, 16457.46119704,\n",
       "       16696.98666946, 16823.64168711, 16893.18375233, 16731.91970424,\n",
       "       16762.08661617, 16936.74891427, 17267.01668783, 17126.81963127,\n",
       "       16790.66418141, 16712.18228077, 16487.14114388, 16387.68906957,\n",
       "       16750.69853502, 17359.79024688, 17580.262731  , 18093.56802699,\n",
       "       18188.34216898, 18656.18620669, 18467.89272054, 18219.53669227,\n",
       "       17708.69018653, 17568.04834296, 17731.9025085 , 17206.24478712,\n",
       "       16525.58933805, 16217.78905995, 15961.93587825, 15760.36492477,\n",
       "       15551.13673288, 15547.44519244, 15462.68738546, 15261.2966474 ,\n",
       "       15335.46488094, 15760.57869094, 16239.76288016, 16702.99704562,\n",
       "       17047.99263725, 17256.10502725, 17395.17861318, 17561.94210753,\n",
       "       17466.35028598, 17485.9755541 , 17842.98231213, 17477.30220745,\n",
       "       17044.67111359, 16719.07072783, 16641.53591677, 16269.35655366,\n",
       "       16817.16351771, 17041.23839317, 17069.91565205, 16551.3476822 ,\n",
       "       16325.34028389, 16059.38449385, 15663.07160119, 15213.87219129,\n",
       "       14654.81134907, 14358.10773993, 13947.79268387, 13300.47612994,\n",
       "       12871.0937067 , 12504.74258714, 12198.5977986 , 12044.83953127,\n",
       "       12077.73076362, 12012.3048954 , 11780.72615637, 11593.85522178,\n",
       "       11741.27910862, 12122.58427413, 12372.02063636, 12438.77894842,\n",
       "       12390.4121957 , 12385.1150125 , 12503.7245617 , 12723.81169157,\n",
       "       12764.14160319, 12672.28733453, 12486.91180453, 12171.86744147,\n",
       "       11967.43221303, 12111.07253453, 12440.64916276, 12584.71605801,\n",
       "       12400.6135391 , 12244.3715581 , 12051.42410445, 11864.6250643 ,\n",
       "       11703.86523597, 11672.04858602, 11612.57270263, 11599.56459983,\n",
       "       11610.76383822, 11355.7935204 , 11080.68892173, 10847.38088149,\n",
       "       10656.02804678, 10482.97139143, 10413.56544636, 10352.71925472,\n",
       "       10234.60050497, 10066.55153782,  9970.11136174,  9797.84075239,\n",
       "        9660.4926333 ,  9540.91490548,  9479.00659314,  9361.07668615,\n",
       "        9244.38048795,  9160.68336378,  9125.46083402,  9232.3113267 ,\n",
       "        9255.64634853,  9317.88777184,  9392.96475125,  9464.53232283,\n",
       "       10148.83617567, 10685.38638577, 11202.44169636, 11395.77738005,\n",
       "       11575.73398558, 11589.65850299, 11522.35954465, 11380.08809351,\n",
       "       11221.99507003, 11077.20827168, 11182.50584421, 11465.26863987,\n",
       "       11853.10949033, 12150.13039365, 12432.90948539, 12575.34964884,\n",
       "       12655.2713557 , 12662.67360845, 12633.85735362, 12613.59653854,\n",
       "       12576.79424802, 12568.29919961, 12553.772686  , 12504.01501529,\n",
       "       12573.90313247, 12683.25459348, 12928.9428583 , 12866.17900198,\n",
       "       12908.61398314, 12963.43494044, 12952.51177675, 12912.54325458,\n",
       "       12907.64484593, 12823.10080512, 12668.83927663, 12609.93471447,\n",
       "       12631.81075823, 12788.95860931, 13006.98668209, 13294.31717191,\n",
       "       13447.01140136, 13407.00549407, 13511.89374752, 14071.5383727 ,\n",
       "       14295.70239727, 14186.59729458, 13983.26157196, 13674.79986489,\n",
       "       13265.93228379, 13146.0756055 , 13110.10537343, 12993.70921475,\n",
       "       12902.34382836, 12758.3708752 , 12627.91120317, 12485.11252605,\n",
       "       12625.49746678, 12857.95715249, 12899.70482269, 12853.84958281,\n",
       "       12933.24789807, 12791.44807453, 12589.08244771, 12406.12448847,\n",
       "       12211.44485782, 12051.2870257 , 11975.66173126, 12258.33058484,\n",
       "       12415.1544316 , 12427.51069136, 12529.8299164 , 12735.34164443,\n",
       "       13276.2371552 , 13606.17517287, 13763.79656874, 13792.01466173,\n",
       "       13922.24235433, 14146.76968553, 14334.78038684, 14488.36994186,\n",
       "       14523.24354389, 14876.54725836, 14934.25166247, 14781.59481813,\n",
       "       14786.7386265 , 14916.18027309, 15118.54685851, 15378.17114384,\n",
       "       15385.23693055, 15070.91918075, 14726.95599344, 14535.99282666,\n",
       "       14488.6536853 , 14621.5683132 , 14832.90061604, 14910.02227366,\n",
       "       14847.03698242, 14737.7133206 , 14701.37690613, 14754.8635024 ,\n",
       "       14807.35124509, 14757.30887235, 14628.70024281, 14461.96838202,\n",
       "       14257.75171271, 14496.99535888, 14886.70738227, 15346.17619565,\n",
       "       15449.45113761, 15421.96445084, 15235.70030542, 14940.86020046,\n",
       "       14771.92549367, 14923.76753422, 14948.97564617, 14957.66816468,\n",
       "       14874.86876256, 14660.02130033, 14362.08110662, 14223.64498483,\n",
       "       14194.48459523, 14194.19701742, 14178.19427107, 14278.80144957,\n",
       "       14123.14804449, 13916.53105909, 13857.30153401, 13929.87466932,\n",
       "       14032.14884051, 14022.72204   , 14084.99605546, 14474.04377412,\n",
       "       14383.65998665, 14208.42445011, 13975.58324452, 13647.35248043,\n",
       "       13329.49273064, 13069.28370377, 12787.67026074, 12511.45848752,\n",
       "       12443.53452675, 12473.69376994, 12618.85154367, 12591.38882172,\n",
       "       12589.6202182 , 12450.32423877, 12285.38207053, 12244.93904497,\n",
       "       12207.86163835, 12151.10336523, 12192.23370174, 12210.19101859])"
      ]
     },
     "execution_count": 140,
     "metadata": {},
     "output_type": "execute_result"
    }
   ],
   "source": [
    "variables_inv[:,4]"
   ]
  },
  {
   "cell_type": "code",
   "execution_count": 128,
   "id": "33362d06",
   "metadata": {},
   "outputs": [],
   "source": [
    "variables_scaled_copy_df = pd.DataFrame(np.array(variables_scaled), columns=['Open', 'High', 'Low', 'Close', 'Adj Close', 'Volume'])"
   ]
  },
  {
   "cell_type": "code",
   "execution_count": 129,
   "id": "4e7da54b",
   "metadata": {},
   "outputs": [
    {
     "name": "stdout",
     "output_type": "stream",
     "text": [
      "          Open      High       Low     Close  Adj Close    Volume\n",
      "0     0.065469  0.063672  0.061880  0.060731   0.060731  0.000869\n",
      "1     0.061223  0.061614  0.051361  0.052563   0.052563  0.006564\n",
      "2     0.052591  0.054916  0.047680  0.048513   0.048513  0.005703\n",
      "3     0.047567  0.051129  0.036836  0.042178   0.042178  0.017336\n",
      "4     0.042013  0.053970  0.041984  0.051651   0.051651  0.009595\n",
      "...        ...       ...       ...       ...        ...       ...\n",
      "1503  0.678704  0.702527  0.688510  0.710396   0.710396  0.069336\n",
      "1504  0.710595  0.706250  0.716238  0.705607   0.705607  0.061844\n",
      "1505  0.705763  0.733535  0.710144  0.739122   0.739122  0.072692\n",
      "1506  0.739655  0.740887  0.748894  0.739708   0.739708  0.061614\n",
      "1507  0.740415  0.731157  0.744498  0.733609   0.733609  0.046279\n",
      "\n",
      "[1508 rows x 6 columns]\n"
     ]
    }
   ],
   "source": [
    "print(variables_scaled_copy_df)"
   ]
  },
  {
   "cell_type": "code",
   "execution_count": 135,
   "id": "1cffc608",
   "metadata": {},
   "outputs": [
    {
     "data": {
      "text/html": [
       "<div>\n",
       "<style scoped>\n",
       "    .dataframe tbody tr th:only-of-type {\n",
       "        vertical-align: middle;\n",
       "    }\n",
       "\n",
       "    .dataframe tbody tr th {\n",
       "        vertical-align: top;\n",
       "    }\n",
       "\n",
       "    .dataframe thead th {\n",
       "        text-align: right;\n",
       "    }\n",
       "</style>\n",
       "<table border=\"1\" class=\"dataframe\">\n",
       "  <thead>\n",
       "    <tr style=\"text-align: right;\">\n",
       "      <th></th>\n",
       "      <th>Open</th>\n",
       "      <th>High</th>\n",
       "      <th>Low</th>\n",
       "      <th>Close</th>\n",
       "      <th>Adj Close</th>\n",
       "      <th>Volume</th>\n",
       "    </tr>\n",
       "  </thead>\n",
       "  <tbody>\n",
       "    <tr>\n",
       "      <th>1216</th>\n",
       "      <td>0.762464</td>\n",
       "      <td>0.786833</td>\n",
       "      <td>0.772115</td>\n",
       "      <td>0.801917</td>\n",
       "      <td>0.801917</td>\n",
       "      <td>0.137881</td>\n",
       "    </tr>\n",
       "    <tr>\n",
       "      <th>1217</th>\n",
       "      <td>0.802130</td>\n",
       "      <td>0.823987</td>\n",
       "      <td>0.792831</td>\n",
       "      <td>0.820329</td>\n",
       "      <td>0.820329</td>\n",
       "      <td>0.156221</td>\n",
       "    </tr>\n",
       "    <tr>\n",
       "      <th>1218</th>\n",
       "      <td>0.819842</td>\n",
       "      <td>0.836699</td>\n",
       "      <td>0.811721</td>\n",
       "      <td>0.848256</td>\n",
       "      <td>0.848256</td>\n",
       "      <td>0.154718</td>\n",
       "    </tr>\n",
       "    <tr>\n",
       "      <th>1219</th>\n",
       "      <td>0.848733</td>\n",
       "      <td>0.835257</td>\n",
       "      <td>0.825838</td>\n",
       "      <td>0.840903</td>\n",
       "      <td>0.840903</td>\n",
       "      <td>0.151608</td>\n",
       "    </tr>\n",
       "    <tr>\n",
       "      <th>1220</th>\n",
       "      <td>0.841303</td>\n",
       "      <td>0.891539</td>\n",
       "      <td>0.839152</td>\n",
       "      <td>0.901698</td>\n",
       "      <td>0.901698</td>\n",
       "      <td>0.165916</td>\n",
       "    </tr>\n",
       "    <tr>\n",
       "      <th>...</th>\n",
       "      <td>...</td>\n",
       "      <td>...</td>\n",
       "      <td>...</td>\n",
       "      <td>...</td>\n",
       "      <td>...</td>\n",
       "      <td>...</td>\n",
       "    </tr>\n",
       "    <tr>\n",
       "      <th>1503</th>\n",
       "      <td>0.678704</td>\n",
       "      <td>0.702527</td>\n",
       "      <td>0.688510</td>\n",
       "      <td>0.710396</td>\n",
       "      <td>0.710396</td>\n",
       "      <td>0.069336</td>\n",
       "    </tr>\n",
       "    <tr>\n",
       "      <th>1504</th>\n",
       "      <td>0.710595</td>\n",
       "      <td>0.706250</td>\n",
       "      <td>0.716238</td>\n",
       "      <td>0.705607</td>\n",
       "      <td>0.705607</td>\n",
       "      <td>0.061844</td>\n",
       "    </tr>\n",
       "    <tr>\n",
       "      <th>1505</th>\n",
       "      <td>0.705763</td>\n",
       "      <td>0.733535</td>\n",
       "      <td>0.710144</td>\n",
       "      <td>0.739122</td>\n",
       "      <td>0.739122</td>\n",
       "      <td>0.072692</td>\n",
       "    </tr>\n",
       "    <tr>\n",
       "      <th>1506</th>\n",
       "      <td>0.739655</td>\n",
       "      <td>0.740887</td>\n",
       "      <td>0.748894</td>\n",
       "      <td>0.739708</td>\n",
       "      <td>0.739708</td>\n",
       "      <td>0.061614</td>\n",
       "    </tr>\n",
       "    <tr>\n",
       "      <th>1507</th>\n",
       "      <td>0.740415</td>\n",
       "      <td>0.731157</td>\n",
       "      <td>0.744498</td>\n",
       "      <td>0.733609</td>\n",
       "      <td>0.733609</td>\n",
       "      <td>0.046279</td>\n",
       "    </tr>\n",
       "  </tbody>\n",
       "</table>\n",
       "<p>292 rows × 6 columns</p>\n",
       "</div>"
      ],
      "text/plain": [
       "          Open      High       Low     Close  Adj Close    Volume\n",
       "1216  0.762464  0.786833  0.772115  0.801917   0.801917  0.137881\n",
       "1217  0.802130  0.823987  0.792831  0.820329   0.820329  0.156221\n",
       "1218  0.819842  0.836699  0.811721  0.848256   0.848256  0.154718\n",
       "1219  0.848733  0.835257  0.825838  0.840903   0.840903  0.151608\n",
       "1220  0.841303  0.891539  0.839152  0.901698   0.901698  0.165916\n",
       "...        ...       ...       ...       ...        ...       ...\n",
       "1503  0.678704  0.702527  0.688510  0.710396   0.710396  0.069336\n",
       "1504  0.710595  0.706250  0.716238  0.705607   0.705607  0.061844\n",
       "1505  0.705763  0.733535  0.710144  0.739122   0.739122  0.072692\n",
       "1506  0.739655  0.740887  0.748894  0.739708   0.739708  0.061614\n",
       "1507  0.740415  0.731157  0.744498  0.733609   0.733609  0.046279\n",
       "\n",
       "[292 rows x 6 columns]"
      ]
     },
     "execution_count": 135,
     "metadata": {},
     "output_type": "execute_result"
    }
   ],
   "source": [
    "variables_scaled_copy_df[50+len(y_train):50+len(y_train)+len(y_test)]"
   ]
  },
  {
   "cell_type": "code",
   "execution_count": null,
   "id": "8d05bc6d",
   "metadata": {},
   "outputs": [],
   "source": []
  }
 ],
 "metadata": {
  "kernelspec": {
   "display_name": "Python 3 (ipykernel)",
   "language": "python",
   "name": "python3"
  },
  "language_info": {
   "codemirror_mode": {
    "name": "ipython",
    "version": 3
   },
   "file_extension": ".py",
   "mimetype": "text/x-python",
   "name": "python",
   "nbconvert_exporter": "python",
   "pygments_lexer": "ipython3",
   "version": "3.9.7"
  }
 },
 "nbformat": 4,
 "nbformat_minor": 5
}